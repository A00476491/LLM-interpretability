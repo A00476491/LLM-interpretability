{
 "cells": [
  {
   "cell_type": "code",
   "execution_count": null,
   "metadata": {},
   "outputs": [],
   "source": [
    "import numpy as np\n",
    "from transformers import AutoTokenizer, AutoModelForCausalLM\n",
    "import torch\n",
    "import json\n",
    "import copy\n",
    "import torch.nn as nn"
   ]
  },
  {
   "cell_type": "code",
   "execution_count": 12,
   "metadata": {},
   "outputs": [
    {
     "data": {
      "text/plain": [
       "Qwen2ForCausalLM(\n",
       "  (model): Qwen2Model(\n",
       "    (embed_tokens): Embedding(151936, 896)\n",
       "    (layers): ModuleList(\n",
       "      (0-23): 24 x Qwen2DecoderLayer(\n",
       "        (self_attn): Qwen2Attention(\n",
       "          (q_proj): Linear(in_features=896, out_features=896, bias=True)\n",
       "          (k_proj): Linear(in_features=896, out_features=128, bias=True)\n",
       "          (v_proj): Linear(in_features=896, out_features=128, bias=True)\n",
       "          (o_proj): Linear(in_features=896, out_features=896, bias=False)\n",
       "        )\n",
       "        (mlp): Qwen2MLP(\n",
       "          (gate_proj): Linear(in_features=896, out_features=4864, bias=False)\n",
       "          (up_proj): Linear(in_features=896, out_features=4864, bias=False)\n",
       "          (down_proj): Linear(in_features=4864, out_features=896, bias=False)\n",
       "          (act_fn): SiLU()\n",
       "        )\n",
       "        (input_layernorm): Qwen2RMSNorm((896,), eps=1e-06)\n",
       "        (post_attention_layernorm): Qwen2RMSNorm((896,), eps=1e-06)\n",
       "      )\n",
       "    )\n",
       "    (norm): Qwen2RMSNorm((896,), eps=1e-06)\n",
       "    (rotary_emb): Qwen2RotaryEmbedding()\n",
       "  )\n",
       "  (lm_head): Linear(in_features=896, out_features=151936, bias=False)\n",
       ")"
      ]
     },
     "execution_count": 12,
     "metadata": {},
     "output_type": "execute_result"
    }
   ],
   "source": [
    "model_name = \"Qwen/Qwen2.5-0.5B-Instruct\"\n",
    "\n",
    "tokenizer = AutoTokenizer.from_pretrained(model_name)\n",
    "model = AutoModelForCausalLM.from_pretrained(model_name)\n",
    "model.eval().cuda()"
   ]
  },
  {
   "cell_type": "code",
   "execution_count": null,
   "metadata": {},
   "outputs": [],
   "source": [
    "import json\n",
    "file_path = 'transportation_sentences.json'\n",
    "\n",
    "with open(file_path, 'r') as file:\n",
    "    data = json.load(file)\n",
    "\n",
    "print(data)"
   ]
  },
  {
   "cell_type": "code",
   "execution_count": null,
   "metadata": {},
   "outputs": [],
   "source": [
    "import copy\n",
    "\n",
    "features = {}\n",
    "\n",
    "def forward_hook(module, input, output):\n",
    "    features[\"decoder15\"] = copy.deepcopy(output[0].cpu().detach() \\\n",
    "                                      if isinstance(output, (tuple, list)) else output.cpu().detach())\n",
    "    features[\"decoder15\"] = features[\"decoder15\"].numpy().tolist()\n",
    "\n",
    "\n",
    "\n",
    "hook_handle = model.model.layers[14].register_forward_hook(forward_hook)"
   ]
  },
  {
   "cell_type": "code",
   "execution_count": null,
   "metadata": {},
   "outputs": [],
   "source": [
    "def generate_story(query = \"I saw a Truck on the way to school.\"):\n",
    "\n",
    "    prompt = f\"Give me a short story that begins with: {query} \\n\\n\"\n",
    "    prompt += \"Try to include more transportation-related words in the story.\\n\\n\"\n",
    "    prompt += \"The story should contain at most 50 words\"\n",
    "\n",
    "    messages = [\n",
    "        {\"role\": \"system\", \"content\": \"You are Qwen, created by Alibaba Cloud. You are a helpful assistant.\"},\n",
    "        {\"role\": \"user\", \"content\": prompt}\n",
    "    ]\n",
    "\n",
    "    text = tokenizer.apply_chat_template(messages, tokenize=False, add_generation_prompt=True)\n",
    "    dummy_input = tokenizer(text, return_tensors=\"pt\")[\"input_ids\"].cuda()\n",
    "    eos_token_id = tokenizer.eos_token_id\n",
    "\n",
    "    token_feature = []\n",
    "    for i in range(150):\n",
    "        out = model(dummy_input)\n",
    "        \n",
    "        next_token_id = torch.argmax(out.logits[:, -1, :], dim=-1).unsqueeze(0)  # shape: (1, 1)\n",
    "        \n",
    "        dummy_input = torch.cat([dummy_input, next_token_id], dim=1)\n",
    "        token_feature.append([next_token_id.cpu().numpy().tolist()[0][0], features[\"decoder15\"][0][-1]])\n",
    "\n",
    "        if next_token_id.item() == eos_token_id:\n",
    "            break\n",
    "    if True:\n",
    "        print(tokenizer.decode(dummy_input[0], skip_special_tokens=True))\n",
    "\n",
    "    return token_feature"
   ]
  },
  {
   "cell_type": "code",
   "execution_count": null,
   "metadata": {},
   "outputs": [],
   "source": [
    "stories = {}\n",
    "# data = data[:2]\n",
    "torch.cuda.empty_cache() \n",
    "with torch.no_grad():\n",
    "    for obj in data:\n",
    "        for k, sentences in obj.items():\n",
    "            for sentence in sentences:\n",
    "                output = generate_story(sentence)\n",
    "                try:\n",
    "                    stories[k][sentence] = output\n",
    "                except:\n",
    "                    stories[k] = {sentence: output}\n"
   ]
  },
  {
   "cell_type": "code",
   "execution_count": null,
   "metadata": {},
   "outputs": [],
   "source": [
    "import json\n",
    "\n",
    "file_path = \"dataset.json\"\n",
    "\n",
    "with open(file_path, 'w', encoding='utf-8') as f:\n",
    "    json.dump(stories, f, indent=4, ensure_ascii=False)\n"
   ]
  },
  {
   "cell_type": "code",
   "execution_count": null,
   "metadata": {},
   "outputs": [],
   "source": [
    "file_path = \"./data/dataset.json\"\n",
    "\n",
    "with open(file_path, 'r') as file:\n",
    "    stories = json.load(file)\n",
    "\n",
    "print(f\"Category: {'Car'}\")\n",
    "print(f\"First sentence: {'The Car is parked outside the building.'}\")\n",
    "\n",
    "story = stories['Car']['The Car is parked outside the building.']\n",
    "print(f\"Story: {tokenizer.decode([token[0] for token in story], skip_special_tokens=True)}\")\n",
    "print(f\"Tokens: {[token[0] for token in story]}\")"
   ]
  }
 ],
 "metadata": {
  "kernelspec": {
   "display_name": "ml",
   "language": "python",
   "name": "python3"
  },
  "language_info": {
   "codemirror_mode": {
    "name": "ipython",
    "version": 3
   },
   "file_extension": ".py",
   "mimetype": "text/x-python",
   "name": "python",
   "nbconvert_exporter": "python",
   "pygments_lexer": "ipython3",
   "version": "3.9.21"
  }
 },
 "nbformat": 4,
 "nbformat_minor": 2
}
