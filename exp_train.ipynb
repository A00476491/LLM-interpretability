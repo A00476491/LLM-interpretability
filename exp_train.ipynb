{
 "cells": [
  {
   "cell_type": "code",
   "execution_count": 4,
   "metadata": {},
   "outputs": [],
   "source": [
    "import numpy as np\n",
    "from transformers import AutoTokenizer, AutoModelForCausalLM\n",
    "import torch\n",
    "import json\n",
    "import copy\n",
    "import torch.nn as nn\n",
    "from typing import Any, Callable, Literal, TypeVar, overload\n",
    "from sklearn.model_selection import train_test_split\n",
    "from torch.utils.data import DataLoader, TensorDataset"
   ]
  },
  {
   "cell_type": "code",
   "execution_count": 2,
   "metadata": {},
   "outputs": [
    {
     "name": "stdout",
     "output_type": "stream",
     "text": [
      "Train shape: torch.Size([1078, 896])\n",
      "Val shape: torch.Size([152, 896])\n",
      "Test shape: torch.Size([310, 896])\n"
     ]
    }
   ],
   "source": [
    "with open('./data/dataset.json', 'r') as file:\n",
    "    dataset_raw = json.load(file)\n",
    "\n",
    "dataset = []\n",
    "for k1, v1 in dataset_raw.items():\n",
    "    for k2, v2 in v1.items():\n",
    "        dataset += [v2_item[1] for v2_item in v2] \n",
    "\n",
    "data_tensor = torch.tensor(dataset, dtype=torch.float32)\n",
    "train_data, test_data = train_test_split(data_tensor, test_size=0.3, random_state=42)\n",
    "val_data, test_data = train_test_split(test_data, test_size=0.67, random_state=42)\n",
    "\n",
    "print(\"Train shape:\", train_data.shape)\n",
    "print(\"Val shape:\", val_data.shape)\n",
    "print(\"Test shape:\", test_data.shape)"
   ]
  },
  {
   "cell_type": "code",
   "execution_count": 3,
   "metadata": {},
   "outputs": [],
   "source": [
    "import torch\n",
    "import torch.nn as nn\n",
    "import torch.nn.functional as F\n",
    "\n",
    "class SparseAutoencoder(nn.Module):\n",
    "    def __init__(self, input_dim, hidden_dim, l1_lambda=0): # 1e-4\n",
    "        super(SparseAutoencoder, self).__init__()\n",
    "        self.l1_lambda = l1_lambda\n",
    "        self.mse_loss_fn = nn.MSELoss()\n",
    "\n",
    "        self.encoder = nn.Sequential(\n",
    "            nn.Linear(input_dim, hidden_dim),\n",
    "            nn.ReLU(),\n",
    "        )\n",
    "\n",
    "        self.W_dec = nn.Parameter(\n",
    "            torch.nn.init.kaiming_uniform_(\n",
    "                torch.empty(\n",
    "                    hidden_dim, input_dim\n",
    "                )\n",
    "            )\n",
    "        )\n",
    "\n",
    "        self.b_dec = nn.Parameter(\n",
    "            torch.zeros(input_dim)\n",
    "        )\n",
    "\n",
    "    def forward(self, x):\n",
    "        x = x - self.b_dec\n",
    "        z = self.encoder(x)\n",
    "        x_hat = z @ self.W_dec + self.b_dec\n",
    "        return x_hat, z\n",
    "    \n",
    "    def decode(self, z):\n",
    "        x_hat = z @ self.W_dec + self.b_dec\n",
    "        return x_hat\n",
    "\n",
    "    def loss(self, x, x_hat, z):\n",
    "        mse_loss = self.mse_loss_fn(x_hat, x)\n",
    "        l1_loss = torch.norm(z, 1)  # L1 regularization\n",
    "        total_loss = mse_loss + self.l1_lambda * l1_loss\n",
    "        return total_loss, mse_loss, l1_loss\n"
   ]
  },
  {
   "cell_type": "code",
   "execution_count": null,
   "metadata": {},
   "outputs": [],
   "source": [
    "# Creates a timestamped directory under 'model/', \n",
    "# sets up a training log file, and defines a function to log messages \n",
    "import os, sys, time\n",
    "timestamp = time.strftime(\"%Y%m%d-%H%M%S\")\n",
    "output_dir = f'model/{timestamp}'\n",
    "os.makedirs(output_dir, exist_ok=True)\n",
    "log_path = os.path.join(output_dir, 'training_log.txt')\n",
    "\n",
    "def log_message(message):\n",
    "    print(message)\n",
    "    with open(log_path, 'a') as f:\n",
    "        f.write(message + '\\n')"
   ]
  },
  {
   "cell_type": "code",
   "execution_count": null,
   "metadata": {},
   "outputs": [],
   "source": [
    "# Model training\n",
    "batch_size = 512\n",
    "epochs = 1000\n",
    "input_dim = 896\n",
    "hidden_dim = 896*20\n",
    "l1_lambda = 8e-8\n",
    "lr = 0.001\n",
    "\n",
    "SAE_model = SparseAutoencoder(input_dim=input_dim, hidden_dim=hidden_dim, l1_lambda=l1_lambda).cuda()\n",
    "SAE_model.train()\n",
    "optimizer = torch.optim.Adam(SAE_model.parameters(), lr=lr)\n",
    "\n",
    "train_dataset = TensorDataset(train_data)\n",
    "train_loader = DataLoader(train_dataset, batch_size=batch_size, shuffle=True, drop_last=True)\n",
    "val_dataset = TensorDataset(val_data)\n",
    "val_loader = DataLoader(val_dataset, batch_size=batch_size, shuffle=False, drop_last=True)\n",
    "test_dataset = TensorDataset(test_data)\n",
    "test_loader = DataLoader(test_dataset, batch_size=batch_size, shuffle=False, drop_last=True)\n",
    "\n",
    "best_val_mse = 100000\n",
    "for epoch in range(epochs):\n",
    "    \n",
    "    # Training\n",
    "    epoch_loss = 0\n",
    "    epoch_mse_loss = 0\n",
    "    epoch_l1_loss = 0\n",
    "    SAE_model.train()\n",
    "    for batch in train_loader:\n",
    "            inputs = batch[0].cuda()\n",
    "            targets = inputs.clone()\n",
    "\n",
    "            optimizer.zero_grad()\n",
    "            outputs, z = SAE_model(inputs)\n",
    "            loss, mse_loss, l1_loss = SAE_model.loss(outputs, targets, z)\n",
    "            loss.backward()\n",
    "            optimizer.step()\n",
    "    \n",
    "            epoch_loss += loss.item()\n",
    "            epoch_mse_loss += mse_loss.item()\n",
    "            epoch_l1_loss += l1_loss.item()\n",
    "\n",
    "    # Evaluation\n",
    "    SAE_model.eval()\n",
    "    val_mse = 0\n",
    "    with torch.no_grad():\n",
    "        for batch in val_loader:\n",
    "            inputs = batch[0].cuda()\n",
    "            targets = inputs.clone()\n",
    "            outputs, _ = SAE_model(inputs)\n",
    "            mse = torch.nn.functional.mse_loss(outputs, targets)\n",
    "            val_mse += mse.item()\n",
    "    val_mse / len(val_loader)\n",
    "\n",
    "    if val_mse < best_val_mse:\n",
    "        best_val_mse = val_mse\n",
    "        best_SAE_model = copy.deepcopy(SAE_model)\n",
    "        torch.save(best_SAE_model.state_dict(), os.path.join(output_dir, 'best_model.pth'))\n",
    "        log_message(f\"Epoch {epoch + 1}/{epochs}, best_val_mse: {best_val_mse:.6f}\")\n",
    "\n",
    "    log_message(f\"Epoch {epoch + 1}/{epochs}, Train Loss: {epoch_loss / len(train_loader):.6f}, \"\n",
    "                f\"MSE: {epoch_mse_loss / len(train_loader):.6f}, \"\n",
    "                f\"L1: {epoch_l1_loss / len(train_loader):.6f}, \"\n",
    "                f\"Val MSE: {val_mse:.6f}\")\n",
    "\n",
    "torch.save(SAE_model.state_dict(), os.path.join(output_dir, 'final_model.pth'))\n",
    "log_message(\"Training complete. Final model saved.\")\n"
   ]
  },
  {
   "cell_type": "code",
   "execution_count": 6,
   "metadata": {},
   "outputs": [
    {
     "name": "stdout",
     "output_type": "stream",
     "text": [
      "tensor([ 0.8003, -0.4871,  1.2690,  1.3658,  0.0402,  0.1410,  0.2174,  0.3758,\n",
      "        -0.1021, -0.1045])\n",
      "tensor([ 0.8059, -0.4509,  1.2795,  1.3101,  0.0974,  0.1284,  0.2322,  0.3404,\n",
      "        -0.1203, -0.1401], device='cuda:0')\n"
     ]
    }
   ],
   "source": [
    "# a test case to see the reconstruction performance\n",
    "try:\n",
    "    best_SAE_model\n",
    "except:\n",
    "    best_SAE_model = SparseAutoencoder(input_dim=896, hidden_dim=896*20).cuda()\n",
    "    best_SAE_model.load_state_dict(torch.load('./model/20250328-035329/best_model.pth'))\n",
    "\n",
    "best_SAE_model.eval()\n",
    "with torch.no_grad():\n",
    "    output, z = best_SAE_model(test_data[0].cuda())\n",
    "\n",
    "print(test_data[0][:10])\n",
    "print(output[:10])"
   ]
  },
  {
   "cell_type": "code",
   "execution_count": 11,
   "metadata": {},
   "outputs": [],
   "source": [
    "# Find the top 30 most highly activated positions in a feature vector\n",
    "def find_non_zero(vec, topnum=30, disp=True):\n",
    "    nonzero_indices = (vec != 0).nonzero(as_tuple=True)[0]\n",
    "    nonzero_values = vec[nonzero_indices]\n",
    "\n",
    "    topn_rel_indices = torch.topk(nonzero_values, k=min(topnum, len(nonzero_values))).indices\n",
    "    topn_indices = nonzero_indices[topn_rel_indices]\n",
    "    topn_values = nonzero_values[topn_rel_indices]\n",
    "\n",
    "    if disp:\n",
    "        for idx, val in zip(topn_indices.tolist(), topn_values.tolist()):\n",
    "            print(f\"Position: {idx}, Value: {val:.6f}\")\n",
    "\n",
    "    return topn_indices.cpu().numpy().tolist(), topn_values.cpu().numpy().tolist()"
   ]
  },
  {
   "cell_type": "code",
   "execution_count": null,
   "metadata": {},
   "outputs": [],
   "source": [
    "# Count the activation frequency of features (latent vector of SAE) across tokens in 300 stories.\n",
    "with open('./data/dataset.json', 'r') as file:\n",
    "    data_raw = json.load(file)\n",
    "\n",
    "token_feature_count = {}\n",
    "best_SAE_model.eval()\n",
    "for k1, v1 in data_raw.items():\n",
    "    for k2, v2 in v1.items():\n",
    "\n",
    "        for i in range(0, len(v2)):\n",
    "            with torch.no_grad():\n",
    "                _, z = best_SAE_model(torch.Tensor(v2[i][1]).cuda())\n",
    "            z_nonzero_indices, _ = find_non_zero(z, disp=False)\n",
    "\n",
    "            token_id = v2[i][0]\n",
    "            if token_id not in token_feature_count:\n",
    "                token_feature_count[token_id] = np.array([0] * (896*20))\n",
    "            token_feature_count[token_id][z_nonzero_indices] += 1\n",
    "\n",
    "for k, v in token_feature_count.items():\n",
    "    token_feature_count[k] = token_feature_count[k].tolist()\n",
    "\n",
    "with open('./data/token_feature_count.json', 'w', encoding='utf-8') as f:\n",
    "    json.dump(token_feature_count, f, indent=4, ensure_ascii=False)"
   ]
  },
  {
   "cell_type": "code",
   "execution_count": 10,
   "metadata": {},
   "outputs": [
    {
     "name": "stdout",
     "output_type": "stream",
     "text": [
      "car: 1803\n"
     ]
    },
    {
     "data": {
      "image/png": "[encoded data removed]",
      "text/plain": [
       "<Figure size 1200x400 with 1 Axes>"
      ]
     },
     "metadata": {},
     "output_type": "display_data"
    }
   ],
   "source": [
    "import matplotlib.pyplot as plt\n",
    "from transformers import AutoTokenizer, AutoModelForCausalLM\n",
    "\n",
    "def plot_token_feature_distribution(token_feature_count, token_id):\n",
    "\n",
    "    if token_id not in token_feature_count:\n",
    "        print(f\"Token ID {token_id} doesn't exsit in dataset。\")\n",
    "        return\n",
    "\n",
    "    feature_distribution = token_feature_count[token_id]\n",
    "\n",
    "    plt.figure(figsize=(12, 4))\n",
    "    plt.bar(range(len(feature_distribution)), feature_distribution)\n",
    "    plt.title(f\"Feature Distribution for Token ID {token_id}\")\n",
    "    plt.xlabel(\"Feature Index\")\n",
    "    plt.ylabel(\"Count\")\n",
    "    plt.tight_layout()\n",
    "    plt.savefig(\"activated_features_car.png\", dpi=600)\n",
    "    plt.show()\n",
    "\n",
    "model_name = \"Qwen/Qwen2.5-0.5B-Instruct\"\n",
    "tokenizer = AutoTokenizer.from_pretrained(model_name)\n",
    "token_id = tokenizer(\" car\", return_tensors=\"pt\")[\"input_ids\"].numpy().tolist()[0][0]\n",
    "print(f\"{'car'}: {token_id}\")\n",
    "\n",
    "with open('./data/token_feature_count.json', 'r', encoding='utf-8') as f:\n",
    "    token_feature_count = json.load(f)\n",
    "plot_token_feature_distribution(token_feature_count, str(token_id))\n"
   ]
  }
 ],
 "metadata": {
  "kernelspec": {
   "display_name": "ml",
   "language": "python",
   "name": "python3"
  },
  "language_info": {
   "codemirror_mode": {
    "name": "ipython",
    "version": 3
   },
   "file_extension": ".py",
   "mimetype": "text/x-python",
   "name": "python",
   "nbconvert_exporter": "python",
   "pygments_lexer": "ipython3",
   "version": "3.9.21"
  }
 },
 "nbformat": 4,
 "nbformat_minor": 2
}
